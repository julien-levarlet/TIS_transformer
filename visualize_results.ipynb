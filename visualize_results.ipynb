{
 "cells": [
  {
   "cell_type": "markdown",
   "metadata": {},
   "source": [
    "# Visualize TIS_transformer results"
   ]
  },
  {
   "cell_type": "code",
   "execution_count": 1,
   "metadata": {},
   "outputs": [],
   "source": [
    "import numpy as np\n",
    "import pandas as pd\n",
    "import os\n",
    "from src.visualisation_utils import concat_chr_arrays, get_inference, roc_pr_auc, plot_distribution_graph, plot_bar_roc_pr_by_chromosomes\n",
    "\n",
    "%load_ext autoreload\n",
    "%autoreload 2"
   ]
  },
  {
   "cell_type": "markdown",
   "metadata": {},
   "source": [
    "First, we will look at chromosome 4"
   ]
  },
  {
   "cell_type": "code",
   "execution_count": 2,
   "metadata": {},
   "outputs": [
    {
     "data": {
      "text/plain": [
       "((16355057,), (1, 16355057))"
      ]
     },
     "execution_count": 2,
     "metadata": {},
     "output_type": "execute_result"
    }
   ],
   "source": [
    "chr4_predictions = np.load('out/tis_chr4_version_0.npy', allow_pickle=True)\n",
    "chr4=np.load('data/GRCh38p13_unzip/chr4.npy', allow_pickle=True)\n",
    "outputs,labels = concat_chr_arrays(chr4_predictions, chr4)\n",
    "del chr4_predictions, chr4\n",
    "outputs.shape, labels.shape"
   ]
  },
  {
   "cell_type": "code",
   "execution_count": 3,
   "metadata": {},
   "outputs": [
    {
     "data": {
      "text/plain": [
       "(3647, array([0., 0., 0., 0., 0.], dtype=float32))"
      ]
     },
     "execution_count": 3,
     "metadata": {},
     "output_type": "execute_result"
    }
   ],
   "source": [
    "TIS_number = labels.sum()\n",
    "inference = get_inference(outputs, 3*TIS_number)\n",
    "TIS_number, inference[0:5]"
   ]
  },
  {
   "cell_type": "code",
   "execution_count": 4,
   "metadata": {},
   "outputs": [
    {
     "data": {
      "text/plain": [
       "(0.9998106348859738, 0.8549431435101602)"
      ]
     },
     "execution_count": 4,
     "metadata": {},
     "output_type": "execute_result"
    }
   ],
   "source": [
    "roc, pr = roc_pr_auc(outputs, labels)\n",
    "roc, pr"
   ]
  },
  {
   "cell_type": "code",
   "execution_count": 5,
   "metadata": {},
   "outputs": [
    {
     "data": {
      "image/png": "[encoded data removed]",
      "text/plain": [
       "<Figure size 432x288 with 1 Axes>"
      ]
     },
     "metadata": {
      "needs_background": "light"
     },
     "output_type": "display_data"
    }
   ],
   "source": [
    "plot_distribution_graph(outputs, labels.toarray()[0,:])"
   ]
  },
  {
   "cell_type": "markdown",
   "metadata": {},
   "source": [
    "Now we are going to get results on all chromosomes"
   ]
  },
  {
   "cell_type": "code",
   "execution_count": 6,
   "metadata": {},
   "outputs": [
    {
     "data": {
      "text/html": [
       "<div>\n",
       "<style scoped>\n",
       "    .dataframe tbody tr th:only-of-type {\n",
       "        vertical-align: middle;\n",
       "    }\n",
       "\n",
       "    .dataframe tbody tr th {\n",
       "        vertical-align: top;\n",
       "    }\n",
       "\n",
       "    .dataframe thead th {\n",
       "        text-align: right;\n",
       "    }\n",
       "</style>\n",
       "<table border=\"1\" class=\"dataframe\">\n",
       "  <thead>\n",
       "    <tr style=\"text-align: right;\">\n",
       "      <th></th>\n",
       "      <th>name</th>\n",
       "      <th>chr</th>\n",
       "    </tr>\n",
       "  </thead>\n",
       "  <tbody>\n",
       "    <tr>\n",
       "      <th>0</th>\n",
       "      <td>tis_chr16_version_0.npy</td>\n",
       "      <td>chr16</td>\n",
       "    </tr>\n",
       "    <tr>\n",
       "      <th>1</th>\n",
       "      <td>tis_chr22_version_0.npy</td>\n",
       "      <td>chr22</td>\n",
       "    </tr>\n",
       "    <tr>\n",
       "      <th>2</th>\n",
       "      <td>tis_chrY_version_0.npy</td>\n",
       "      <td>chrY</td>\n",
       "    </tr>\n",
       "    <tr>\n",
       "      <th>3</th>\n",
       "      <td>tis_chr21_version_0.npy</td>\n",
       "      <td>chr21</td>\n",
       "    </tr>\n",
       "    <tr>\n",
       "      <th>4</th>\n",
       "      <td>tis_chr4_large_version_0.npy</td>\n",
       "      <td>chr4</td>\n",
       "    </tr>\n",
       "  </tbody>\n",
       "</table>\n",
       "</div>"
      ],
      "text/plain": [
       "                           name    chr\n",
       "0       tis_chr16_version_0.npy  chr16\n",
       "1       tis_chr22_version_0.npy  chr22\n",
       "2        tis_chrY_version_0.npy   chrY\n",
       "3       tis_chr21_version_0.npy  chr21\n",
       "4  tis_chr4_large_version_0.npy   chr4"
      ]
     },
     "execution_count": 6,
     "metadata": {},
     "output_type": "execute_result"
    }
   ],
   "source": [
    "del outputs, labels, inference\n",
    "OUT_DIR = \"./out\"\n",
    "\n",
    "npy_files = os.listdir(OUT_DIR)\n",
    "chr = [s.split('_')[1] for s in npy_files]\n",
    "files = pd.DataFrame({'name': npy_files, 'chr':chr})\n",
    "files.head()"
   ]
  },
  {
   "cell_type": "code",
   "execution_count": 7,
   "metadata": {},
   "outputs": [
    {
     "name": "stdout",
     "output_type": "stream",
     "text": [
      "chr1\n",
      "chr10\n",
      "chr11\n",
      "chr12\n",
      "chr13\n",
      "chr14\n",
      "chr15\n",
      "chr16\n",
      "chr17\n",
      "chr18\n",
      "chr19\n",
      "chr2\n",
      "chr20\n",
      "chr21\n",
      "chr22\n",
      "chr3\n",
      "chr4\n",
      "chr5\n",
      "chr6\n",
      "chr7\n",
      "chr8\n",
      "chr9\n",
      "chrX\n",
      "chrY\n"
     ]
    },
    {
     "data": {
      "text/html": [
       "<div>\n",
       "<style scoped>\n",
       "    .dataframe tbody tr th:only-of-type {\n",
       "        vertical-align: middle;\n",
       "    }\n",
       "\n",
       "    .dataframe tbody tr th {\n",
       "        vertical-align: top;\n",
       "    }\n",
       "\n",
       "    .dataframe thead th {\n",
       "        text-align: right;\n",
       "    }\n",
       "</style>\n",
       "<table border=\"1\" class=\"dataframe\">\n",
       "  <thead>\n",
       "    <tr style=\"text-align: right;\">\n",
       "      <th></th>\n",
       "      <th>Model</th>\n",
       "      <th>roc_auc</th>\n",
       "      <th>pr_auc</th>\n",
       "    </tr>\n",
       "  </thead>\n",
       "  <tbody>\n",
       "    <tr>\n",
       "      <th>0</th>\n",
       "      <td>tis_chrY_version_0.npy</td>\n",
       "      <td>0.999912</td>\n",
       "      <td>0.813825</td>\n",
       "    </tr>\n",
       "    <tr>\n",
       "      <th>1</th>\n",
       "      <td>tis_chr4_version_0.npy</td>\n",
       "      <td>0.999811</td>\n",
       "      <td>0.854943</td>\n",
       "    </tr>\n",
       "    <tr>\n",
       "      <th>2</th>\n",
       "      <td>tis_chr4_small_version_0.npy</td>\n",
       "      <td>0.999813</td>\n",
       "      <td>0.771008</td>\n",
       "    </tr>\n",
       "  </tbody>\n",
       "</table>\n",
       "</div>"
      ],
      "text/plain": [
       "                          Model   roc_auc    pr_auc\n",
       "0        tis_chrY_version_0.npy  0.999912  0.813825\n",
       "1        tis_chr4_version_0.npy  0.999811  0.854943\n",
       "2  tis_chr4_small_version_0.npy  0.999813  0.771008"
      ]
     },
     "execution_count": 7,
     "metadata": {},
     "output_type": "execute_result"
    }
   ],
   "source": [
    "roc_pr_df = pd.DataFrame(columns=[\"Model\", \"roc_auc\", \"pr_auc\"])\n",
    "for chr_name, chr_df in files.groupby('chr'):\n",
    "    print(chr_name)\n",
    "    chr_matrix = np.load(f'data/GRCh38p13_unzip/{chr_name}.npy', allow_pickle=True)\n",
    "    for i,file in enumerate(chr_df['name']):\n",
    "        predictions = np.load('out/'+file, allow_pickle=True)\n",
    "        try:\n",
    "            outputs,labels = concat_chr_arrays(predictions, chr_matrix)\n",
    "        except ValueError as e:\n",
    "            print(e)\n",
    "            continue\n",
    "        del predictions\n",
    "        #TIS_number = labels.sum()\n",
    "        #inference = get_inference(outputs, 3*TIS_number)\n",
    "        roc, pr = roc_pr_auc(outputs, labels.toarray()[0,:])\n",
    "        roc_pr_df.loc[i] = file, roc, pr\n",
    "        del outputs, labels\n",
    "roc_pr_df     \n",
    "        "
   ]
  },
  {
   "cell_type": "code",
   "execution_count": 9,
   "metadata": {},
   "outputs": [
    {
     "name": "stdout",
     "output_type": "stream",
     "text": [
      "The autoreload extension is already loaded. To reload it, use:\n",
      "  %reload_ext autoreload\n"
     ]
    },
    {
     "data": {
      "image/png": "[encoded data removed]",
      "text/plain": [
       "<Figure size 432x288 with 1 Axes>"
      ]
     },
     "metadata": {},
     "output_type": "display_data"
    }
   ],
   "source": [
    "%load_ext autoreload\n",
    "%autoreload 2\n",
    "plot_bar_roc_pr_by_chromosomes(roc_pr_df)"
   ]
  }
 ],
 "metadata": {
  "interpreter": {
   "hash": "63bb12f94bdf3137e6c10ecf966649782031634190cbc8fcdd8de2ff77d6f175"
  },
  "kernelspec": {
   "display_name": "Python 3.8.10 ('TIS_trans')",
   "language": "python",
   "name": "python3"
  },
  "language_info": {
   "codemirror_mode": {
    "name": "ipython",
    "version": 3
   },
   "file_extension": ".py",
   "mimetype": "text/x-python",
   "name": "python",
   "nbconvert_exporter": "python",
   "pygments_lexer": "ipython3",
   "version": "3.8.10"
  },
  "orig_nbformat": 4
 },
 "nbformat": 4,
 "nbformat_minor": 2
}
