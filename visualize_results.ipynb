{
 "cells": [
  {
   "cell_type": "markdown",
   "metadata": {},
   "source": [
    "# Visualize TIS_transformer results"
   ]
  },
  {
   "cell_type": "code",
   "execution_count": 1,
   "metadata": {},
   "outputs": [],
   "source": [
    "import numpy as np\n",
    "import pandas as pd\n",
    "import os\n",
    "from src.visualisation_utils import concat_chr_arrays, get_inference, roc_pr_auc, plot_distribution_graph, plot_bar_roc_pr_by_chromosomes, remove_long_sequences\n",
    "\n",
    "%load_ext autoreload\n",
    "%autoreload 2"
   ]
  },
  {
   "cell_type": "markdown",
   "metadata": {},
   "source": [
    "First, we will look at chromosome 4"
   ]
  },
  {
   "cell_type": "code",
   "execution_count": 2,
   "metadata": {},
   "outputs": [
    {
     "data": {
      "text/plain": [
       "((16355057,), (1, 16355057))"
      ]
     },
     "execution_count": 2,
     "metadata": {},
     "output_type": "execute_result"
    }
   ],
   "source": [
    "chr4_predictions = np.load('out/tis_chr4_version_0.npy', allow_pickle=True)\n",
    "chr4=np.load('data/GRCh38p13_unzip/chr4.npy', allow_pickle=True)\n",
    "chr4 = remove_long_sequences(chr4)\n",
    "outputs,labels = concat_chr_arrays(chr4_predictions, chr4)\n",
    "del chr4_predictions, chr4\n",
    "outputs.shape, labels.shape"
   ]
  },
  {
   "cell_type": "code",
   "execution_count": 3,
   "metadata": {},
   "outputs": [
    {
     "data": {
      "text/plain": [
       "(3647, array([0., 0., 0., 0., 0.], dtype=float32))"
      ]
     },
     "execution_count": 3,
     "metadata": {},
     "output_type": "execute_result"
    }
   ],
   "source": [
    "TIS_number = labels.sum()\n",
    "inference = get_inference(outputs, 3*TIS_number)\n",
    "TIS_number, inference[0:5]"
   ]
  },
  {
   "cell_type": "code",
   "execution_count": 4,
   "metadata": {},
   "outputs": [
    {
     "data": {
      "text/plain": [
       "(0.9998106348859738, 0.8549431435101602)"
      ]
     },
     "execution_count": 4,
     "metadata": {},
     "output_type": "execute_result"
    }
   ],
   "source": [
    "roc, pr = roc_pr_auc(outputs, labels.A.flatten())\n",
    "roc, pr"
   ]
  },
  {
   "cell_type": "code",
   "execution_count": 5,
   "metadata": {},
   "outputs": [
    {
     "data": {
      "image/png": "[encoded data removed]",
      "text/plain": [
       "<Figure size 432x288 with 1 Axes>"
      ]
     },
     "metadata": {
      "needs_background": "light"
     },
     "output_type": "display_data"
    }
   ],
   "source": [
    "plot_distribution_graph(outputs, labels.A.flatten())"
   ]
  },
  {
   "cell_type": "markdown",
   "metadata": {},
   "source": [
    "Now we are going to get results on all chromosomes"
   ]
  },
  {
   "cell_type": "code",
   "execution_count": 6,
   "metadata": {},
   "outputs": [
    {
     "data": {
      "text/html": [
       "<div>\n",
       "<style scoped>\n",
       "    .dataframe tbody tr th:only-of-type {\n",
       "        vertical-align: middle;\n",
       "    }\n",
       "\n",
       "    .dataframe tbody tr th {\n",
       "        vertical-align: top;\n",
       "    }\n",
       "\n",
       "    .dataframe thead th {\n",
       "        text-align: right;\n",
       "    }\n",
       "</style>\n",
       "<table border=\"1\" class=\"dataframe\">\n",
       "  <thead>\n",
       "    <tr style=\"text-align: right;\">\n",
       "      <th></th>\n",
       "      <th>name</th>\n",
       "      <th>chr</th>\n",
       "    </tr>\n",
       "  </thead>\n",
       "  <tbody>\n",
       "    <tr>\n",
       "      <th>0</th>\n",
       "      <td>tis_chr16_version_0.npy</td>\n",
       "      <td>chr16</td>\n",
       "    </tr>\n",
       "    <tr>\n",
       "      <th>1</th>\n",
       "      <td>tis_chr22_version_0.npy</td>\n",
       "      <td>chr22</td>\n",
       "    </tr>\n",
       "    <tr>\n",
       "      <th>2</th>\n",
       "      <td>tis_chrY_version_0.npy</td>\n",
       "      <td>chrY</td>\n",
       "    </tr>\n",
       "    <tr>\n",
       "      <th>3</th>\n",
       "      <td>tis_chr21_version_0.npy</td>\n",
       "      <td>chr21</td>\n",
       "    </tr>\n",
       "    <tr>\n",
       "      <th>4</th>\n",
       "      <td>tis_chr4_large_version_0.npy</td>\n",
       "      <td>chr4</td>\n",
       "    </tr>\n",
       "  </tbody>\n",
       "</table>\n",
       "</div>"
      ],
      "text/plain": [
       "                           name    chr\n",
       "0       tis_chr16_version_0.npy  chr16\n",
       "1       tis_chr22_version_0.npy  chr22\n",
       "2        tis_chrY_version_0.npy   chrY\n",
       "3       tis_chr21_version_0.npy  chr21\n",
       "4  tis_chr4_large_version_0.npy   chr4"
      ]
     },
     "execution_count": 6,
     "metadata": {},
     "output_type": "execute_result"
    }
   ],
   "source": [
    "del outputs, labels, inference\n",
    "OUT_DIR = \"./out\"\n",
    "\n",
    "npy_files = os.listdir(OUT_DIR)\n",
    "chr = [s.split('_')[1] for s in npy_files]\n",
    "files = pd.DataFrame({'name': npy_files, 'chr':chr})\n",
    "files.head()"
   ]
  },
  {
   "cell_type": "code",
   "execution_count": 7,
   "metadata": {},
   "outputs": [
    {
     "name": "stdout",
     "output_type": "stream",
     "text": [
      " chrY   "
     ]
    },
    {
     "data": {
      "text/html": [
       "<div>\n",
       "<style scoped>\n",
       "    .dataframe tbody tr th:only-of-type {\n",
       "        vertical-align: middle;\n",
       "    }\n",
       "\n",
       "    .dataframe tbody tr th {\n",
       "        vertical-align: top;\n",
       "    }\n",
       "\n",
       "    .dataframe thead th {\n",
       "        text-align: right;\n",
       "    }\n",
       "</style>\n",
       "<table border=\"1\" class=\"dataframe\">\n",
       "  <thead>\n",
       "    <tr style=\"text-align: right;\">\n",
       "      <th></th>\n",
       "      <th>Model</th>\n",
       "      <th>roc_auc</th>\n",
       "      <th>pr_auc</th>\n",
       "    </tr>\n",
       "  </thead>\n",
       "  <tbody>\n",
       "    <tr>\n",
       "      <th>0</th>\n",
       "      <td>tis_chr1_version_0.npy</td>\n",
       "      <td>0.999933</td>\n",
       "      <td>0.847866</td>\n",
       "    </tr>\n",
       "    <tr>\n",
       "      <th>1</th>\n",
       "      <td>tis_chr10_version_0.npy</td>\n",
       "      <td>0.999947</td>\n",
       "      <td>0.865847</td>\n",
       "    </tr>\n",
       "    <tr>\n",
       "      <th>2</th>\n",
       "      <td>tis_chr11_version_0.npy</td>\n",
       "      <td>0.999935</td>\n",
       "      <td>0.853333</td>\n",
       "    </tr>\n",
       "    <tr>\n",
       "      <th>3</th>\n",
       "      <td>tis_chr12_version_0.npy</td>\n",
       "      <td>0.999918</td>\n",
       "      <td>0.843575</td>\n",
       "    </tr>\n",
       "    <tr>\n",
       "      <th>4</th>\n",
       "      <td>tis_chr13_version_0.npy</td>\n",
       "      <td>0.999945</td>\n",
       "      <td>0.839617</td>\n",
       "    </tr>\n",
       "    <tr>\n",
       "      <th>5</th>\n",
       "      <td>tis_chr14_version_0.npy</td>\n",
       "      <td>0.999915</td>\n",
       "      <td>0.841236</td>\n",
       "    </tr>\n",
       "    <tr>\n",
       "      <th>6</th>\n",
       "      <td>tis_chr15_version_0.npy</td>\n",
       "      <td>0.999935</td>\n",
       "      <td>0.843112</td>\n",
       "    </tr>\n",
       "    <tr>\n",
       "      <th>7</th>\n",
       "      <td>tis_chr16_version_0.npy</td>\n",
       "      <td>0.999906</td>\n",
       "      <td>0.832248</td>\n",
       "    </tr>\n",
       "    <tr>\n",
       "      <th>8</th>\n",
       "      <td>tis_chr17_version_0.npy</td>\n",
       "      <td>0.999926</td>\n",
       "      <td>0.843384</td>\n",
       "    </tr>\n",
       "    <tr>\n",
       "      <th>9</th>\n",
       "      <td>tis_chr18_version_0.npy</td>\n",
       "      <td>0.999937</td>\n",
       "      <td>0.839170</td>\n",
       "    </tr>\n",
       "    <tr>\n",
       "      <th>10</th>\n",
       "      <td>tis_chr19_version_0.npy</td>\n",
       "      <td>0.999903</td>\n",
       "      <td>0.836555</td>\n",
       "    </tr>\n",
       "    <tr>\n",
       "      <th>11</th>\n",
       "      <td>tis_chr2_version_0.npy</td>\n",
       "      <td>0.999935</td>\n",
       "      <td>0.851975</td>\n",
       "    </tr>\n",
       "    <tr>\n",
       "      <th>12</th>\n",
       "      <td>tis_chr20_version_0.npy</td>\n",
       "      <td>0.999937</td>\n",
       "      <td>0.886555</td>\n",
       "    </tr>\n",
       "    <tr>\n",
       "      <th>13</th>\n",
       "      <td>tis_chr21_version_0.npy</td>\n",
       "      <td>0.999937</td>\n",
       "      <td>0.828499</td>\n",
       "    </tr>\n",
       "    <tr>\n",
       "      <th>14</th>\n",
       "      <td>tis_chr22_version_0.npy</td>\n",
       "      <td>0.999762</td>\n",
       "      <td>0.853109</td>\n",
       "    </tr>\n",
       "    <tr>\n",
       "      <th>15</th>\n",
       "      <td>tis_chr3_version_0.npy</td>\n",
       "      <td>0.999930</td>\n",
       "      <td>0.844468</td>\n",
       "    </tr>\n",
       "    <tr>\n",
       "      <th>16</th>\n",
       "      <td>tis_chr4_large_version_0.npy</td>\n",
       "      <td>0.999926</td>\n",
       "      <td>0.850211</td>\n",
       "    </tr>\n",
       "    <tr>\n",
       "      <th>17</th>\n",
       "      <td>tis_chr4_version_0.npy</td>\n",
       "      <td>0.999811</td>\n",
       "      <td>0.854943</td>\n",
       "    </tr>\n",
       "    <tr>\n",
       "      <th>18</th>\n",
       "      <td>tis_chr4_small_version_0.npy</td>\n",
       "      <td>0.999813</td>\n",
       "      <td>0.771008</td>\n",
       "    </tr>\n",
       "    <tr>\n",
       "      <th>19</th>\n",
       "      <td>tis_chr5_version_0.npy</td>\n",
       "      <td>0.999934</td>\n",
       "      <td>0.853771</td>\n",
       "    </tr>\n",
       "    <tr>\n",
       "      <th>20</th>\n",
       "      <td>tis_chr6_version_0.npy</td>\n",
       "      <td>0.999928</td>\n",
       "      <td>0.861819</td>\n",
       "    </tr>\n",
       "    <tr>\n",
       "      <th>21</th>\n",
       "      <td>tis_chr7_version_0.npy</td>\n",
       "      <td>0.999931</td>\n",
       "      <td>0.823076</td>\n",
       "    </tr>\n",
       "    <tr>\n",
       "      <th>22</th>\n",
       "      <td>tis_chr8_version_0.npy</td>\n",
       "      <td>0.999702</td>\n",
       "      <td>0.851575</td>\n",
       "    </tr>\n",
       "    <tr>\n",
       "      <th>23</th>\n",
       "      <td>tis_chr9_version_0.npy</td>\n",
       "      <td>0.999936</td>\n",
       "      <td>0.844912</td>\n",
       "    </tr>\n",
       "    <tr>\n",
       "      <th>24</th>\n",
       "      <td>tis_chrX_version_0.npy</td>\n",
       "      <td>0.999953</td>\n",
       "      <td>0.875011</td>\n",
       "    </tr>\n",
       "    <tr>\n",
       "      <th>25</th>\n",
       "      <td>tis_chrY_version_0.npy</td>\n",
       "      <td>0.999912</td>\n",
       "      <td>0.813825</td>\n",
       "    </tr>\n",
       "  </tbody>\n",
       "</table>\n",
       "</div>"
      ],
      "text/plain": [
       "                           Model   roc_auc    pr_auc\n",
       "0         tis_chr1_version_0.npy  0.999933  0.847866\n",
       "1        tis_chr10_version_0.npy  0.999947  0.865847\n",
       "2        tis_chr11_version_0.npy  0.999935  0.853333\n",
       "3        tis_chr12_version_0.npy  0.999918  0.843575\n",
       "4        tis_chr13_version_0.npy  0.999945  0.839617\n",
       "5        tis_chr14_version_0.npy  0.999915  0.841236\n",
       "6        tis_chr15_version_0.npy  0.999935  0.843112\n",
       "7        tis_chr16_version_0.npy  0.999906  0.832248\n",
       "8        tis_chr17_version_0.npy  0.999926  0.843384\n",
       "9        tis_chr18_version_0.npy  0.999937  0.839170\n",
       "10       tis_chr19_version_0.npy  0.999903  0.836555\n",
       "11        tis_chr2_version_0.npy  0.999935  0.851975\n",
       "12       tis_chr20_version_0.npy  0.999937  0.886555\n",
       "13       tis_chr21_version_0.npy  0.999937  0.828499\n",
       "14       tis_chr22_version_0.npy  0.999762  0.853109\n",
       "15        tis_chr3_version_0.npy  0.999930  0.844468\n",
       "16  tis_chr4_large_version_0.npy  0.999926  0.850211\n",
       "17        tis_chr4_version_0.npy  0.999811  0.854943\n",
       "18  tis_chr4_small_version_0.npy  0.999813  0.771008\n",
       "19        tis_chr5_version_0.npy  0.999934  0.853771\n",
       "20        tis_chr6_version_0.npy  0.999928  0.861819\n",
       "21        tis_chr7_version_0.npy  0.999931  0.823076\n",
       "22        tis_chr8_version_0.npy  0.999702  0.851575\n",
       "23        tis_chr9_version_0.npy  0.999936  0.844912\n",
       "24        tis_chrX_version_0.npy  0.999953  0.875011\n",
       "25        tis_chrY_version_0.npy  0.999912  0.813825"
      ]
     },
     "execution_count": 7,
     "metadata": {},
     "output_type": "execute_result"
    }
   ],
   "source": [
    "roc_pr_df = pd.DataFrame(columns=[\"Model\", \"roc_auc\", \"pr_auc\"])\n",
    "count = 0\n",
    "for chr_name, chr_df in files.groupby('chr'):\n",
    "    print('\\r', chr_name, ' ', end='')\n",
    "    matrix = np.load(f'data/GRCh38p13_unzip/{chr_name}.npy', allow_pickle=True)\n",
    "    chr = remove_long_sequences(matrix)\n",
    "    for file in chr_df['name']:\n",
    "        predictions = np.load('out/'+file, allow_pickle=True)\n",
    "        outputs,labels = concat_chr_arrays(predictions, chr)\n",
    "        del predictions\n",
    "        #TIS_number = labels.sum()\n",
    "        #inference = get_inference(outputs, 3*TIS_number)\n",
    "        roc, pr = roc_pr_auc(outputs, labels.A.flatten())\n",
    "        roc_pr_df.loc[count] = file, roc, pr\n",
    "        count += 1\n",
    "roc_pr_df     \n",
    "        "
   ]
  },
  {
   "cell_type": "code",
   "execution_count": 8,
   "metadata": {},
   "outputs": [
    {
     "data": {
      "image/png": "[encoded data removed]",
      "text/plain": [
       "<Figure size 432x288 with 1 Axes>"
      ]
     },
     "metadata": {},
     "output_type": "display_data"
    }
   ],
   "source": [
    "plot_bar_roc_pr_by_chromosomes(roc_pr_df)"
   ]
  }
 ],
 "metadata": {
  "interpreter": {
   "hash": "63bb12f94bdf3137e6c10ecf966649782031634190cbc8fcdd8de2ff77d6f175"
  },
  "kernelspec": {
   "display_name": "Python 3.8.10 ('TIS_trans')",
   "language": "python",
   "name": "python3"
  },
  "language_info": {
   "codemirror_mode": {
    "name": "ipython",
    "version": 3
   },
   "file_extension": ".py",
   "mimetype": "text/x-python",
   "name": "python",
   "nbconvert_exporter": "python",
   "pygments_lexer": "ipython3",
   "version": "3.8.10"
  },
  "orig_nbformat": 4
 },
 "nbformat": 4,
 "nbformat_minor": 2
}
